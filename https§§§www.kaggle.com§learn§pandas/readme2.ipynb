{
 "cells": [
  {
   "cell_type": "markdown",
   "metadata": {},
   "source": [
    "# Summary Functions and Maps\n"
   ]
  },
  {
   "cell_type": "code",
   "execution_count": 26,
   "metadata": {},
   "outputs": [
    {
     "data": {
      "text/html": [
       "<div>\n",
       "<style scoped>\n",
       "    .dataframe tbody tr th:only-of-type {\n",
       "        vertical-align: middle;\n",
       "    }\n",
       "\n",
       "    .dataframe tbody tr th {\n",
       "        vertical-align: top;\n",
       "    }\n",
       "\n",
       "    .dataframe thead th {\n",
       "        text-align: right;\n",
       "    }\n",
       "</style>\n",
       "<table border=\"1\" class=\"dataframe\">\n",
       "  <thead>\n",
       "    <tr style=\"text-align: right;\">\n",
       "      <th></th>\n",
       "      <th>country</th>\n",
       "      <th>description</th>\n",
       "      <th>designation</th>\n",
       "      <th>points</th>\n",
       "      <th>price</th>\n",
       "      <th>province</th>\n",
       "      <th>region_1</th>\n",
       "      <th>region_2</th>\n",
       "      <th>taster_name</th>\n",
       "      <th>taster_twitter_handle</th>\n",
       "      <th>title</th>\n",
       "      <th>variety</th>\n",
       "      <th>winery</th>\n",
       "    </tr>\n",
       "  </thead>\n",
       "  <tbody>\n",
       "    <tr>\n",
       "      <th>0</th>\n",
       "      <td>Italy</td>\n",
       "      <td>Aromas include tropical fruit, broom, brimston...</td>\n",
       "      <td>Vulkà Bianco</td>\n",
       "      <td>87</td>\n",
       "      <td>NaN</td>\n",
       "      <td>Sicily &amp; Sardinia</td>\n",
       "      <td>Etna</td>\n",
       "      <td>NaN</td>\n",
       "      <td>Kerin O’Keefe</td>\n",
       "      <td>@kerinokeefe</td>\n",
       "      <td>Nicosia 2013 Vulkà Bianco  (Etna)</td>\n",
       "      <td>White Blend</td>\n",
       "      <td>Nicosia</td>\n",
       "    </tr>\n",
       "    <tr>\n",
       "      <th>1</th>\n",
       "      <td>Portugal</td>\n",
       "      <td>This is ripe and fruity, a wine that is smooth...</td>\n",
       "      <td>Avidagos</td>\n",
       "      <td>87</td>\n",
       "      <td>15.0</td>\n",
       "      <td>Douro</td>\n",
       "      <td>NaN</td>\n",
       "      <td>NaN</td>\n",
       "      <td>Roger Voss</td>\n",
       "      <td>@vossroger</td>\n",
       "      <td>Quinta dos Avidagos 2011 Avidagos Red (Douro)</td>\n",
       "      <td>Portuguese Red</td>\n",
       "      <td>Quinta dos Avidagos</td>\n",
       "    </tr>\n",
       "    <tr>\n",
       "      <th>...</th>\n",
       "      <td>...</td>\n",
       "      <td>...</td>\n",
       "      <td>...</td>\n",
       "      <td>...</td>\n",
       "      <td>...</td>\n",
       "      <td>...</td>\n",
       "      <td>...</td>\n",
       "      <td>...</td>\n",
       "      <td>...</td>\n",
       "      <td>...</td>\n",
       "      <td>...</td>\n",
       "      <td>...</td>\n",
       "      <td>...</td>\n",
       "    </tr>\n",
       "    <tr>\n",
       "      <th>500</th>\n",
       "      <td>Spain</td>\n",
       "      <td>Aromas of watermelon and a dusting of natural ...</td>\n",
       "      <td>Rosado</td>\n",
       "      <td>87</td>\n",
       "      <td>11.0</td>\n",
       "      <td>Northern Spain</td>\n",
       "      <td>Rioja</td>\n",
       "      <td>NaN</td>\n",
       "      <td>Michael Schachner</td>\n",
       "      <td>@wineschach</td>\n",
       "      <td>El Coto 2011 Rosado Rosé (Rioja)</td>\n",
       "      <td>Rosé</td>\n",
       "      <td>El Coto</td>\n",
       "    </tr>\n",
       "    <tr>\n",
       "      <th>501</th>\n",
       "      <td>US</td>\n",
       "      <td>A Verdelho with a taste of nuts—like Marcona a...</td>\n",
       "      <td>Silvaspoons Vineyard</td>\n",
       "      <td>87</td>\n",
       "      <td>15.0</td>\n",
       "      <td>California</td>\n",
       "      <td>Lodi</td>\n",
       "      <td>Central Valley</td>\n",
       "      <td>Virginie Boone</td>\n",
       "      <td>@vboone</td>\n",
       "      <td>Fenestra 2010 Silvaspoons Vineyard Verdelho (L...</td>\n",
       "      <td>Verdelho</td>\n",
       "      <td>Fenestra</td>\n",
       "    </tr>\n",
       "  </tbody>\n",
       "</table>\n",
       "<p>502 rows × 13 columns</p>\n",
       "</div>"
      ],
      "text/plain": [
       "      country                                        description  \\\n",
       "0       Italy  Aromas include tropical fruit, broom, brimston...   \n",
       "1    Portugal  This is ripe and fruity, a wine that is smooth...   \n",
       "..        ...                                                ...   \n",
       "500     Spain  Aromas of watermelon and a dusting of natural ...   \n",
       "501        US  A Verdelho with a taste of nuts—like Marcona a...   \n",
       "\n",
       "              designation  points  price           province region_1  \\\n",
       "0            Vulkà Bianco      87    NaN  Sicily & Sardinia     Etna   \n",
       "1                Avidagos      87   15.0              Douro      NaN   \n",
       "..                    ...     ...    ...                ...      ...   \n",
       "500                Rosado      87   11.0     Northern Spain    Rioja   \n",
       "501  Silvaspoons Vineyard      87   15.0         California     Lodi   \n",
       "\n",
       "           region_2        taster_name taster_twitter_handle  \\\n",
       "0               NaN      Kerin O’Keefe          @kerinokeefe   \n",
       "1               NaN         Roger Voss            @vossroger   \n",
       "..              ...                ...                   ...   \n",
       "500             NaN  Michael Schachner           @wineschach   \n",
       "501  Central Valley     Virginie Boone               @vboone   \n",
       "\n",
       "                                                 title         variety  \\\n",
       "0                    Nicosia 2013 Vulkà Bianco  (Etna)     White Blend   \n",
       "1        Quinta dos Avidagos 2011 Avidagos Red (Douro)  Portuguese Red   \n",
       "..                                                 ...             ...   \n",
       "500                   El Coto 2011 Rosado Rosé (Rioja)            Rosé   \n",
       "501  Fenestra 2010 Silvaspoons Vineyard Verdelho (L...        Verdelho   \n",
       "\n",
       "                  winery  \n",
       "0                Nicosia  \n",
       "1    Quinta dos Avidagos  \n",
       "..                   ...  \n",
       "500              El Coto  \n",
       "501             Fenestra  \n",
       "\n",
       "[502 rows x 13 columns]"
      ]
     },
     "execution_count": 26,
     "metadata": {},
     "output_type": "execute_result"
    }
   ],
   "source": [
    "import pandas as pd\n",
    "pd.set_option('display.max_rows', 5)\n",
    "import numpy as np\n",
    "reviews = pd.read_csv(\"https§§§www.kaggle.com§learn§pandas/winemag-data-130k-v2.csv\", index_col=0)\n",
    "reviews"
   ]
  },
  {
   "cell_type": "code",
   "execution_count": 27,
   "metadata": {},
   "outputs": [
    {
     "data": {
      "text/plain": [
       "count            361\n",
       "unique            16\n",
       "top       Roger Voss\n",
       "freq              75\n",
       "Name: taster_name, dtype: object"
      ]
     },
     "execution_count": 27,
     "metadata": {},
     "output_type": "execute_result"
    }
   ],
   "source": [
    "reviews.taster_name.describe()"
   ]
  },
  {
   "cell_type": "code",
   "execution_count": 28,
   "metadata": {},
   "outputs": [
    {
     "data": {
      "text/plain": [
       "count    502.000000\n",
       "mean      88.288845\n",
       "            ...    \n",
       "75%       90.000000\n",
       "max      100.000000\n",
       "Name: points, Length: 8, dtype: float64"
      ]
     },
     "execution_count": 28,
     "metadata": {},
     "output_type": "execute_result"
    }
   ],
   "source": [
    "reviews.points.describe()"
   ]
  },
  {
   "cell_type": "code",
   "execution_count": 29,
   "metadata": {},
   "outputs": [
    {
     "data": {
      "text/plain": [
       "array(['Kerin O’Keefe', 'Roger Voss', 'Paul Gregutt',\n",
       "       'Alexander Peartree', 'Michael Schachner', 'Anna Lee C. Iijima',\n",
       "       'Virginie Boone', 'Matt Kettmann', nan, 'Sean P. Sullivan',\n",
       "       'Jim Gordon', 'Joe Czerwinski', 'Anne Krebiehl\\xa0MW',\n",
       "       'Lauren Buzzeo', 'Mike DeSimone', 'Jeff Jenssen',\n",
       "       'Susan Kostrzewa'], dtype=object)"
      ]
     },
     "execution_count": 29,
     "metadata": {},
     "output_type": "execute_result"
    }
   ],
   "source": [
    "reviews.taster_name.unique()"
   ]
  },
  {
   "cell_type": "code",
   "execution_count": 30,
   "metadata": {},
   "outputs": [
    {
     "data": {
      "text/plain": [
       "taster_name\n",
       "Roger Voss           75\n",
       "Michael Schachner    61\n",
       "                     ..\n",
       "Mike DeSimone         2\n",
       "Jeff Jenssen          2\n",
       "Name: count, Length: 16, dtype: int64"
      ]
     },
     "execution_count": 30,
     "metadata": {},
     "output_type": "execute_result"
    }
   ],
   "source": [
    "reviews.taster_name.value_counts()"
   ]
  },
  {
   "cell_type": "markdown",
   "metadata": {},
   "source": [
    "Maps\n",
    "A map is a term, borrowed from mathematics, for a function that takes one set of values and \"maps\" them to another set of values. In data science we often have a need for creating new representations from existing data, or for transforming data from the format it is in now to the format that we want it to be in later. Maps are what handle this work, making them extremely important for getting your work done!"
   ]
  },
  {
   "cell_type": "code",
   "execution_count": 31,
   "metadata": {},
   "outputs": [
    {
     "data": {
      "text/plain": [
       "0     -1.288845\n",
       "1     -1.288845\n",
       "         ...   \n",
       "500   -1.288845\n",
       "501   -1.288845\n",
       "Name: points, Length: 502, dtype: float64"
      ]
     },
     "execution_count": 31,
     "metadata": {},
     "output_type": "execute_result"
    }
   ],
   "source": [
    "reviews_points_mean = reviews.points.mean()\n",
    "reviews.points.map(lambda p: p- reviews_points_mean)\n"
   ]
  },
  {
   "cell_type": "code",
   "execution_count": 34,
   "metadata": {},
   "outputs": [
    {
     "data": {
      "text/html": [
       "<div>\n",
       "<style scoped>\n",
       "    .dataframe tbody tr th:only-of-type {\n",
       "        vertical-align: middle;\n",
       "    }\n",
       "\n",
       "    .dataframe tbody tr th {\n",
       "        vertical-align: top;\n",
       "    }\n",
       "\n",
       "    .dataframe thead th {\n",
       "        text-align: right;\n",
       "    }\n",
       "</style>\n",
       "<table border=\"1\" class=\"dataframe\">\n",
       "  <thead>\n",
       "    <tr style=\"text-align: right;\">\n",
       "      <th></th>\n",
       "      <th>country</th>\n",
       "      <th>description</th>\n",
       "      <th>designation</th>\n",
       "      <th>points</th>\n",
       "      <th>price</th>\n",
       "      <th>province</th>\n",
       "      <th>region_1</th>\n",
       "      <th>region_2</th>\n",
       "      <th>taster_name</th>\n",
       "      <th>taster_twitter_handle</th>\n",
       "      <th>title</th>\n",
       "      <th>variety</th>\n",
       "      <th>winery</th>\n",
       "    </tr>\n",
       "  </thead>\n",
       "  <tbody>\n",
       "    <tr>\n",
       "      <th>0</th>\n",
       "      <td>Italy</td>\n",
       "      <td>Aromas include tropical fruit, broom, brimston...</td>\n",
       "      <td>Vulkà Bianco</td>\n",
       "      <td>-1.288845</td>\n",
       "      <td>NaN</td>\n",
       "      <td>Sicily &amp; Sardinia</td>\n",
       "      <td>Etna</td>\n",
       "      <td>NaN</td>\n",
       "      <td>Kerin O’Keefe</td>\n",
       "      <td>@kerinokeefe</td>\n",
       "      <td>Nicosia 2013 Vulkà Bianco  (Etna)</td>\n",
       "      <td>White Blend</td>\n",
       "      <td>Nicosia</td>\n",
       "    </tr>\n",
       "    <tr>\n",
       "      <th>1</th>\n",
       "      <td>Portugal</td>\n",
       "      <td>This is ripe and fruity, a wine that is smooth...</td>\n",
       "      <td>Avidagos</td>\n",
       "      <td>-1.288845</td>\n",
       "      <td>15.0</td>\n",
       "      <td>Douro</td>\n",
       "      <td>NaN</td>\n",
       "      <td>NaN</td>\n",
       "      <td>Roger Voss</td>\n",
       "      <td>@vossroger</td>\n",
       "      <td>Quinta dos Avidagos 2011 Avidagos Red (Douro)</td>\n",
       "      <td>Portuguese Red</td>\n",
       "      <td>Quinta dos Avidagos</td>\n",
       "    </tr>\n",
       "    <tr>\n",
       "      <th>...</th>\n",
       "      <td>...</td>\n",
       "      <td>...</td>\n",
       "      <td>...</td>\n",
       "      <td>...</td>\n",
       "      <td>...</td>\n",
       "      <td>...</td>\n",
       "      <td>...</td>\n",
       "      <td>...</td>\n",
       "      <td>...</td>\n",
       "      <td>...</td>\n",
       "      <td>...</td>\n",
       "      <td>...</td>\n",
       "      <td>...</td>\n",
       "    </tr>\n",
       "    <tr>\n",
       "      <th>500</th>\n",
       "      <td>Spain</td>\n",
       "      <td>Aromas of watermelon and a dusting of natural ...</td>\n",
       "      <td>Rosado</td>\n",
       "      <td>-1.288845</td>\n",
       "      <td>11.0</td>\n",
       "      <td>Northern Spain</td>\n",
       "      <td>Rioja</td>\n",
       "      <td>NaN</td>\n",
       "      <td>Michael Schachner</td>\n",
       "      <td>@wineschach</td>\n",
       "      <td>El Coto 2011 Rosado Rosé (Rioja)</td>\n",
       "      <td>Rosé</td>\n",
       "      <td>El Coto</td>\n",
       "    </tr>\n",
       "    <tr>\n",
       "      <th>501</th>\n",
       "      <td>US</td>\n",
       "      <td>A Verdelho with a taste of nuts—like Marcona a...</td>\n",
       "      <td>Silvaspoons Vineyard</td>\n",
       "      <td>-1.288845</td>\n",
       "      <td>15.0</td>\n",
       "      <td>California</td>\n",
       "      <td>Lodi</td>\n",
       "      <td>Central Valley</td>\n",
       "      <td>Virginie Boone</td>\n",
       "      <td>@vboone</td>\n",
       "      <td>Fenestra 2010 Silvaspoons Vineyard Verdelho (L...</td>\n",
       "      <td>Verdelho</td>\n",
       "      <td>Fenestra</td>\n",
       "    </tr>\n",
       "  </tbody>\n",
       "</table>\n",
       "<p>502 rows × 13 columns</p>\n",
       "</div>"
      ],
      "text/plain": [
       "      country                                        description  \\\n",
       "0       Italy  Aromas include tropical fruit, broom, brimston...   \n",
       "1    Portugal  This is ripe and fruity, a wine that is smooth...   \n",
       "..        ...                                                ...   \n",
       "500     Spain  Aromas of watermelon and a dusting of natural ...   \n",
       "501        US  A Verdelho with a taste of nuts—like Marcona a...   \n",
       "\n",
       "              designation    points  price           province region_1  \\\n",
       "0            Vulkà Bianco -1.288845    NaN  Sicily & Sardinia     Etna   \n",
       "1                Avidagos -1.288845   15.0              Douro      NaN   \n",
       "..                    ...       ...    ...                ...      ...   \n",
       "500                Rosado -1.288845   11.0     Northern Spain    Rioja   \n",
       "501  Silvaspoons Vineyard -1.288845   15.0         California     Lodi   \n",
       "\n",
       "           region_2        taster_name taster_twitter_handle  \\\n",
       "0               NaN      Kerin O’Keefe          @kerinokeefe   \n",
       "1               NaN         Roger Voss            @vossroger   \n",
       "..              ...                ...                   ...   \n",
       "500             NaN  Michael Schachner           @wineschach   \n",
       "501  Central Valley     Virginie Boone               @vboone   \n",
       "\n",
       "                                                 title         variety  \\\n",
       "0                    Nicosia 2013 Vulkà Bianco  (Etna)     White Blend   \n",
       "1        Quinta dos Avidagos 2011 Avidagos Red (Douro)  Portuguese Red   \n",
       "..                                                 ...             ...   \n",
       "500                   El Coto 2011 Rosado Rosé (Rioja)            Rosé   \n",
       "501  Fenestra 2010 Silvaspoons Vineyard Verdelho (L...        Verdelho   \n",
       "\n",
       "                  winery  \n",
       "0                Nicosia  \n",
       "1    Quinta dos Avidagos  \n",
       "..                   ...  \n",
       "500              El Coto  \n",
       "501             Fenestra  \n",
       "\n",
       "[502 rows x 13 columns]"
      ]
     },
     "execution_count": 34,
     "metadata": {},
     "output_type": "execute_result"
    }
   ],
   "source": [
    "# apply() is the equivalent method if we want to transform a whole DataFrame by calling a custom method on each row.\n",
    "reviews_points_mean = reviews.points.mean()\n",
    "\n",
    "def remean_points(row):\n",
    "    row.points = row.points - reviews_points_mean\n",
    "    return row\n",
    "\n",
    "reviews.apply(remean_points, axis='columns')\n",
    "# If we had called reviews.apply() with axis='index', \n",
    "# then instead of passing a function to transform each row, we would need to give a function to transform each column\n"
   ]
  },
  {
   "cell_type": "code",
   "execution_count": 35,
   "metadata": {},
   "outputs": [
    {
     "data": {
      "text/plain": [
       "0       Italy - Etna\n",
       "1                NaN\n",
       "           ...      \n",
       "500    Spain - Rioja\n",
       "501        US - Lodi\n",
       "Length: 502, dtype: object"
      ]
     },
     "execution_count": 35,
     "metadata": {},
     "output_type": "execute_result"
    }
   ],
   "source": [
    "# Pandas will also understand what to do if we perform these operations between Series of equal length. \n",
    "reviews.country + \" - \" + reviews.region_1"
   ]
  }
 ],
 "metadata": {
  "kernelspec": {
   "display_name": "Python 3 (ipykernel)",
   "language": "python",
   "name": "python3"
  },
  "language_info": {
   "codemirror_mode": {
    "name": "ipython",
    "version": 3
   },
   "file_extension": ".py",
   "mimetype": "text/x-python",
   "name": "python",
   "nbconvert_exporter": "python",
   "pygments_lexer": "ipython3",
   "version": "3.10.6"
  }
 },
 "nbformat": 4,
 "nbformat_minor": 2
}
