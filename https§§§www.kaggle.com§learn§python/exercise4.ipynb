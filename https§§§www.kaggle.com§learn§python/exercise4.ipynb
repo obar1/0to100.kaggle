{
 "cells": [
  {
   "cell_type": "code",
   "execution_count": 1,
   "metadata": {},
   "outputs": [
    {
     "name": "stdout",
     "output_type": "stream",
     "text": [
      "Help on built-in function any in module builtins:\n",
      "\n",
      "any(iterable, /)\n",
      "    Return True if bool(x) is True for any x in the iterable.\n",
      "    \n",
      "    If the iterable is empty, return False.\n",
      "\n"
     ]
    }
   ],
   "source": [
    "help(any)"
   ]
  },
  {
   "cell_type": "code",
   "execution_count": 6,
   "metadata": {},
   "outputs": [
    {
     "name": "stdout",
     "output_type": "stream",
     "text": [
      "False\n",
      "True\n"
     ]
    }
   ],
   "source": [
    "l= ['', False]\n",
    "print(any(l))\n",
    "\n",
    "l= ['', False, 1]\n",
    "print(any(l))"
   ]
  },
  {
   "cell_type": "code",
   "execution_count": 23,
   "metadata": {},
   "outputs": [
    {
     "name": "stdout",
     "output_type": "stream",
     "text": [
      "True\n",
      "True\n",
      "False\n",
      "False\n"
     ]
    }
   ],
   "source": [
    "def has_lucky_number(nums, lucky_num):\n",
    "    if lucky_num==0:\n",
    "        return True\n",
    "    return any([num % lucky_num == 0 for num in nums if num!=0])\n",
    "\n",
    "l = range(-5,5)\n",
    "print(has_lucky_number(l,0))\n",
    "print(has_lucky_number(l,1))\n",
    "print(has_lucky_number(l,11))\n",
    "print(has_lucky_number(l,-11))"
   ]
  },
  {
   "cell_type": "code",
   "execution_count": 26,
   "metadata": {},
   "outputs": [
    {
     "name": "stdout",
     "output_type": "stream",
     "text": [
      "[False, False, True, True]\n"
     ]
    }
   ],
   "source": [
    "l = [1, 2, 3, 4] \n",
    "\n",
    "def elementwise_greater_than(L, thresh):\n",
    "    return [ele > thresh for ele in L]\n",
    "\n",
    "print(elementwise_greater_than(l,2))"
   ]
  },
  {
   "cell_type": "code",
   "execution_count": 47,
   "metadata": {},
   "outputs": [
    {
     "name": "stdout",
     "output_type": "stream",
     "text": [
      "['pasta', 'pizza', 'pizza', 'meat', 'salad', 'meat', 'salad', 'pasta']\n",
      "['pasta', 'pizza', 'pizza', 'meat', 'salad', 'meat', 'salad', 'pasta']\n",
      "['pizza', 'pizza', 'meat', 'salad', 'meat', 'salad', 'pasta']\n",
      "True\n",
      "['pasta', 'pizza1', 'pizza2', 'meat', 'salad', 'meat', 'salad', 'pasta']\n",
      "['pasta', 'pizza1', 'pizza2', 'meat', 'salad', 'meat', 'salad', 'pasta']\n",
      "['pizza1', 'pizza2', 'meat', 'salad', 'meat', 'salad', 'pasta']\n",
      "True\n"
     ]
    }
   ],
   "source": [
    "\n",
    "def menu_is_boring(meals):\n",
    "    meals.append(meals[0])\n",
    "    print(meals)\n",
    "    print(meals[0:])\n",
    "    print(meals[1:])\n",
    "\n",
    "\n",
    "    res= any([\n",
    "        m1 == m2\n",
    "        for m1 in meals[0:]\n",
    "        for m2 in meals[1:]\n",
    "    ])\n",
    "    return res \n",
    "\n",
    "meals = ['pasta', 'pizza', 'pizza', 'meat', 'salad','meat','salad']\n",
    "print(menu_is_boring(meals))\n",
    "meals = ['pasta', 'pizza1', 'pizza2', 'meat', 'salad','meat','salad']\n",
    "print(menu_is_boring(meals))"
   ]
  },
  {
   "cell_type": "code",
   "execution_count": 52,
   "metadata": {},
   "outputs": [
    {
     "name": "stdout",
     "output_type": "stream",
     "text": [
      "0.5\n"
     ]
    }
   ],
   "source": [
    "def play_slot_machine():\n",
    "    return 1.5\n",
    "def estimate_average_slot_payout(n_runs):\n",
    "    # Play slot machine n_runs times, calculate payout of each\n",
    "    payouts = [play_slot_machine()-1 for i in range(n_runs)]\n",
    "    # Calculate the average value\n",
    "    avg_payout = sum(payouts) / n_runs\n",
    "    return avg_payout\n",
    "    \n",
    "print(estimate_average_slot_payout(10000000))"
   ]
  }
 ],
 "metadata": {
  "kernelspec": {
   "display_name": ".venv",
   "language": "python",
   "name": "python3"
  },
  "language_info": {
   "codemirror_mode": {
    "name": "ipython",
    "version": 3
   },
   "file_extension": ".py",
   "mimetype": "text/x-python",
   "name": "python",
   "nbconvert_exporter": "python",
   "pygments_lexer": "ipython3",
   "version": "3.10.10"
  }
 },
 "nbformat": 4,
 "nbformat_minor": 2
}
