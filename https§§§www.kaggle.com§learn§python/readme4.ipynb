{
 "cells": [
  {
   "cell_type": "markdown",
   "metadata": {},
   "source": [
    "# Loops and List Comprehensions\n",
    "Loops and List Comprehensions\n"
   ]
  },
  {
   "cell_type": "code",
   "execution_count": null,
   "metadata": {},
   "outputs": [],
   "source": [
    "\n",
    "planets = ['Mercury', 'Venus', 'Earth', 'Mars', 'Jupiter', 'Saturn', 'Uranus', 'Neptune']\n",
    "for planet in planets:\n",
    "    print(planet, end='-') # print all on same line"
   ]
  },
  {
   "cell_type": "code",
   "execution_count": null,
   "metadata": {},
   "outputs": [],
   "source": [
    "multiplicands = (2, 2, 2, 3, 3, 5)\n",
    "product = 1\n",
    "for mult in multiplicands:\n",
    "    product = product * mult\n",
    "product"
   ]
  },
  {
   "cell_type": "code",
   "execution_count": null,
   "metadata": {},
   "outputs": [],
   "source": [
    "multiplicands = (2, 2, 2, 3, 3, 5)\n",
    "res = 1\n",
    "for i in multiplicands:\n",
    "    res = res + i/2\n",
    "res"
   ]
  },
  {
   "cell_type": "code",
   "execution_count": null,
   "metadata": {},
   "outputs": [],
   "source": [
    "s = 'steganograpHy is the practicE of conceaLing a file, message, image, or video within another fiLe, message, image, Or video.'\n",
    "msg = ''\n",
    "# print all the uppercase letters in s, one at a time\n",
    "for char in s:\n",
    "    if char.isupper():\n",
    "        print(char, end='')   "
   ]
  },
  {
   "cell_type": "code",
   "execution_count": null,
   "metadata": {},
   "outputs": [],
   "source": [
    "i = 0\n",
    "while i < 10:\n",
    "    print(i, end=' ')\n",
    "    i += 1 # increase the value of i by 1"
   ]
  },
  {
   "cell_type": "markdown",
   "metadata": {},
   "source": [
    "List comprehensions¶\n"
   ]
  },
  {
   "cell_type": "code",
   "execution_count": null,
   "metadata": {},
   "outputs": [],
   "source": [
    "squares = [n**2 for n in range(10)]\n",
    "print(squares)"
   ]
  },
  {
   "cell_type": "code",
   "execution_count": null,
   "metadata": {},
   "outputs": [],
   "source": [
    "print(planets)\n",
    "[\n",
    "    p.upper() + '!'\n",
    "    for p in planets\n",
    "    if len(p) < 6\n",
    "]"
   ]
  },
  {
   "cell_type": "code",
   "execution_count": null,
   "metadata": {},
   "outputs": [],
   "source": [
    "def count_negatives(nums):\n",
    "    \"\"\"Return the number of negative numbers in the given list.\n",
    "    \n",
    "    >>> count_negatives([5, -1, -2, 0, 3])\n",
    "    2\n",
    "    \"\"\"\n",
    "    return sum([\n",
    "        abs(x)\n",
    "        for x in nums\n",
    "        if x<0\n",
    "    ])\n",
    "    \n",
    "\n",
    "print(count_negatives(range(-5,5)))"
   ]
  }
 ],
 "metadata": {
  "kernelspec": {
   "display_name": ".venv",
   "language": "python",
   "name": "python3"
  },
  "language_info": {
   "codemirror_mode": {
    "name": "ipython",
    "version": 3
   },
   "file_extension": ".py",
   "mimetype": "text/x-python",
   "name": "python",
   "nbconvert_exporter": "python",
   "pygments_lexer": "ipython3",
   "version": "3.10.10"
  }
 },
 "nbformat": 4,
 "nbformat_minor": 2
}
